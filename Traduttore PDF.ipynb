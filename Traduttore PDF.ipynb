{
 "cells": [
  {
   "cell_type": "code",
   "execution_count": 3,
   "id": "53894005",
   "metadata": {},
   "outputs": [
    {
     "name": "stdout",
     "output_type": "stream",
     "text": [
      "Traduzione completata per il file: 05 - Footprinting.pdf\n",
      "Traduzione completata per il file: 09 - Security Systems.pdf\n",
      "Traduzione completata per il file: 02 - Background.pdf\n",
      "Traduzione completata per il file: 12- How ToR works.pdf\n",
      "Traduzione completata per il file: 10 - WS+WA Security.pdf\n",
      "Traduzione completata per il file: 01 - Intro.pdf\n",
      "Traduzione completata per il file: 02.01 - IntroLinux.pdf\n",
      "Traduzione completata per il file: 07 - Malware.pdf\n",
      "Traduzione completata per il file: 03 - Intro Encryption.pdf\n",
      "Traduzione completata per il file: 11- IT Security Management.pdf\n",
      "Traduzione completata per il file: 08 - Sniffing.pdf\n",
      "Traduzione completata per il file: 04 - Information Security.pdf\n",
      "Traduzione completata per il file: 06 - NW Scanning.pdf\n"
     ]
    }
   ],
   "source": [
    "import os\n",
    "from PyPDF2 import PdfReader\n",
    "from googletrans import Translator\n",
    "\n",
    "def translate_pdf_files(folder_path):\n",
    "    translator = Translator(service_urls=['translate.google.com'])\n",
    "    for filename in os.listdir(folder_path):\n",
    "        if filename.endswith('.pdf'):\n",
    "            file_path = os.path.join(folder_path, filename)\n",
    "            translated_text = ''\n",
    "\n",
    "            # Leggi il testo dal file PDF\n",
    "            with open(file_path, 'rb') as file:\n",
    "                pdf = PdfReader(file)\n",
    "                num_pages = len(pdf.pages)\n",
    "                for page_number in range(num_pages):\n",
    "                    page = pdf.pages[page_number]\n",
    "                    text = page.extract_text()\n",
    "                    translated_text += text\n",
    "\n",
    "            # Traduci il testo in italiano\n",
    "            try:\n",
    "                translation = translator.translate(translated_text, src='en', dest='it')\n",
    "                translated_text = translation.text\n",
    "            except AttributeError:\n",
    "                translated_text = \"Errore nella traduzione\"\n",
    "\n",
    "            # Salva il testo tradotto in un nuovo file\n",
    "            translated_file_path = os.path.splitext(file_path)[0] + '_translated.txt'\n",
    "            with open(translated_file_path, 'w', encoding='utf-8') as translated_file:\n",
    "                translated_file.write(translated_text)\n",
    "\n",
    "            print(f\"Traduzione completata per il file: {filename}\")\n",
    "# Esempio di utilizzo\n",
    "folder_path = 'Desktop/Lezioni-20230519'\n",
    "translate_pdf_files(folder_path)\n"
   ]
  },
  {
   "cell_type": "code",
   "execution_count": null,
   "id": "dd39f203",
   "metadata": {},
   "outputs": [],
   "source": [
    "pip install PyPDF2"
   ]
  },
  {
   "cell_type": "code",
   "execution_count": null,
   "id": "0177a1e6",
   "metadata": {},
   "outputs": [],
   "source": [
    "pip install googletrans\n"
   ]
  },
  {
   "cell_type": "code",
   "execution_count": null,
   "id": "6f9fd92f",
   "metadata": {},
   "outputs": [],
   "source": []
  }
 ],
 "metadata": {
  "kernelspec": {
   "display_name": "Python 3 (ipykernel)",
   "language": "python",
   "name": "python3"
  },
  "language_info": {
   "codemirror_mode": {
    "name": "ipython",
    "version": 3
   },
   "file_extension": ".py",
   "mimetype": "text/x-python",
   "name": "python",
   "nbconvert_exporter": "python",
   "pygments_lexer": "ipython3",
   "version": "3.9.13"
  }
 },
 "nbformat": 4,
 "nbformat_minor": 5
}
